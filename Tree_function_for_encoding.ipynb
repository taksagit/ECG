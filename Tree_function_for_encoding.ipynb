{
  "cells": [
    {
      "cell_type": "code",
      "source": [
        "def tree(data):\n",
        "  if data[0] == 1:\n",
        "    if data[1] == -1:\n",
        "      return 'C'\n",
        "    else:\n",
        "      if data[2] == -1:\n",
        "        return 'E'\n",
        "      return 'A'\n",
        "  else:\n",
        "    if data[1] == 1:\n",
        "      return 'D'\n",
        "    else:\n",
        "      if data[2] == 1:\n",
        "        return 'B'\n",
        "      return 'F'"
      ],
      "metadata": {
        "id": "FYkqDTemw0N_"
      },
      "id": "FYkqDTemw0N_",
      "execution_count": 37,
      "outputs": []
    },
    {
      "cell_type": "code",
      "source": [
        "s = [[sign(i) for i in k] for k in s]\n",
        "\n",
        "stroka = ''\n",
        "for i in s:\n",
        "    stroka += tree(i)\n",
        "stroka"
      ],
      "metadata": {
        "colab": {
          "base_uri": "https://localhost:8080/",
          "height": 36
        },
        "id": "swXdXIYpzyuW",
        "outputId": "9585627f-0ee1-4cd9-fdac-e049c4794a15"
      },
      "id": "swXdXIYpzyuW",
      "execution_count": 42,
      "outputs": [
        {
          "output_type": "execute_result",
          "data": {
            "text/plain": [
              "'DDCADDCC'"
            ],
            "application/vnd.google.colaboratory.intrinsic+json": {
              "type": "string"
            }
          },
          "metadata": {},
          "execution_count": 42
        }
      ]
    }
  ],
  "metadata": {
    "kernelspec": {
      "display_name": "Python 3 (ipykernel)",
      "language": "python",
      "name": "python3"
    },
    "language_info": {
      "codemirror_mode": {
        "name": "ipython",
        "version": 3
      },
      "file_extension": ".py",
      "mimetype": "text/x-python",
      "name": "python",
      "nbconvert_exporter": "python",
      "pygments_lexer": "ipython3",
      "version": "3.10.11"
    },
    "colab": {
      "provenance": []
    }
  },
  "nbformat": 4,
  "nbformat_minor": 5
}