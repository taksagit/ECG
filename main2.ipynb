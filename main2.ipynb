{
 "cells": [
  {
   "cell_type": "code",
   "execution_count": 22,
   "id": "7e48669b",
   "metadata": {
    "id": "7e48669b"
   },
   "outputs": [],
   "source": [
    "import pywt\n",
    "import os\n",
    "from pylab import *\n",
    "from numpy import*\n",
    "import pandas as pd"
   ]
  },
  {
   "cell_type": "markdown",
   "id": "14331beb",
   "metadata": {},
   "source": [
    "#### Обработка графиков ЭКГ и преобразование в таблицу"
   ]
  },
  {
   "cell_type": "code",
   "execution_count": 9,
   "id": "t4gzrc6DBARP",
   "metadata": {
    "id": "t4gzrc6DBARP"
   },
   "outputs": [],
   "source": [
    "def get_ecg(key):\n",
    "  way = 'train/' + key + '.npy'\n",
    "  ecgsig = np.load(way).transpose().reshape((60000,))\n",
    "  x = np.linspace(0,  1,  num = 2048)\n",
    "  data = np.sin(250 * np.pi * x**2)\n",
    "  coefs = pywt.downcoef('a', data, 'db20', mode='symmetric', level=1)\n",
    "  st='sym5'\n",
    "  coeffs = pywt.wavedec(ecgsig, st, level=5)\n",
    "  row = coeffs[0]\n",
    "  return row"
   ]
  },
  {
   "cell_type": "code",
   "execution_count": 10,
   "id": "GEJcFm-FBDTE",
   "metadata": {
    "id": "GEJcFm-FBDTE"
   },
   "outputs": [],
   "source": [
    "def into_one_table(keys):\n",
    "  row = get_ecg(keys[0])\n",
    "  row = np.insert(row, 0, int(keys[0].strip('_hr')))\n",
    "  table = [row]\n",
    "  for i in range(target.index.start + 1, target.index.stop):\n",
    "    row = get_ecg(keys[i])\n",
    "    row = np.insert(row, 0, int(keys[i].strip('_hr')))\n",
    "    table = np.vstack([table, row])\n",
    "  table = pd.DataFrame(table)\n",
    "  return table"
   ]
  },
  {
   "cell_type": "code",
   "execution_count": 11,
   "id": "_6VnV2LkBKY8",
   "metadata": {
    "id": "_6VnV2LkBKY8"
   },
   "outputs": [],
   "source": [
    "target = pd.Series(list(map(lambda x: x[:-4], os.listdir('train')[:-2])))\n",
    "ECG_data = into_one_table(target)"
   ]
  },
  {
   "cell_type": "code",
   "execution_count": 12,
   "id": "922mDUWzBSR8",
   "metadata": {
    "id": "922mDUWzBSR8"
   },
   "outputs": [],
   "source": [
    "ECG_data[0] = ECG_data[0].astype('int')\n",
    "ECG_data = ECG_data.rename(columns={0: 'ecg_id'})"
   ]
  },
  {
   "cell_type": "code",
   "execution_count": 13,
   "id": "2TcyCQ2ZBUJ7",
   "metadata": {
    "id": "2TcyCQ2ZBUJ7"
   },
   "outputs": [],
   "source": [
    "ECG_data = ECG_data.sort_values(by=['ecg_id'], ascending=True)"
   ]
  },
  {
   "cell_type": "code",
   "execution_count": 14,
   "id": "d103c5ad",
   "metadata": {},
   "outputs": [
    {
     "data": {
      "text/html": [
       "<div>\n",
       "<style scoped>\n",
       "    .dataframe tbody tr th:only-of-type {\n",
       "        vertical-align: middle;\n",
       "    }\n",
       "\n",
       "    .dataframe tbody tr th {\n",
       "        vertical-align: top;\n",
       "    }\n",
       "\n",
       "    .dataframe thead th {\n",
       "        text-align: right;\n",
       "    }\n",
       "</style>\n",
       "<table border=\"1\" class=\"dataframe\">\n",
       "  <thead>\n",
       "    <tr style=\"text-align: right;\">\n",
       "      <th></th>\n",
       "      <th>ecg_id</th>\n",
       "      <th>1</th>\n",
       "      <th>2</th>\n",
       "      <th>3</th>\n",
       "      <th>4</th>\n",
       "      <th>5</th>\n",
       "      <th>6</th>\n",
       "      <th>7</th>\n",
       "      <th>8</th>\n",
       "      <th>9</th>\n",
       "      <th>...</th>\n",
       "      <th>1874</th>\n",
       "      <th>1875</th>\n",
       "      <th>1876</th>\n",
       "      <th>1877</th>\n",
       "      <th>1878</th>\n",
       "      <th>1879</th>\n",
       "      <th>1880</th>\n",
       "      <th>1881</th>\n",
       "      <th>1882</th>\n",
       "      <th>1883</th>\n",
       "    </tr>\n",
       "  </thead>\n",
       "  <tbody>\n",
       "    <tr>\n",
       "      <th>0</th>\n",
       "      <td>9</td>\n",
       "      <td>-0.170442</td>\n",
       "      <td>-0.066933</td>\n",
       "      <td>-0.140079</td>\n",
       "      <td>-0.478502</td>\n",
       "      <td>-1.245167</td>\n",
       "      <td>-0.979738</td>\n",
       "      <td>-0.738943</td>\n",
       "      <td>-0.476043</td>\n",
       "      <td>-0.349288</td>\n",
       "      <td>...</td>\n",
       "      <td>0.558936</td>\n",
       "      <td>0.551860</td>\n",
       "      <td>0.551007</td>\n",
       "      <td>0.561618</td>\n",
       "      <td>0.556675</td>\n",
       "      <td>0.645774</td>\n",
       "      <td>0.744957</td>\n",
       "      <td>0.649421</td>\n",
       "      <td>0.667106</td>\n",
       "      <td>0.731759</td>\n",
       "    </tr>\n",
       "    <tr>\n",
       "      <th>1</th>\n",
       "      <td>34</td>\n",
       "      <td>0.399648</td>\n",
       "      <td>0.579593</td>\n",
       "      <td>0.460080</td>\n",
       "      <td>-0.077166</td>\n",
       "      <td>-1.270282</td>\n",
       "      <td>-1.040847</td>\n",
       "      <td>-1.689153</td>\n",
       "      <td>-2.481032</td>\n",
       "      <td>-2.205554</td>\n",
       "      <td>...</td>\n",
       "      <td>1.113606</td>\n",
       "      <td>1.088111</td>\n",
       "      <td>1.099680</td>\n",
       "      <td>1.132341</td>\n",
       "      <td>1.130250</td>\n",
       "      <td>1.788834</td>\n",
       "      <td>2.455783</td>\n",
       "      <td>1.818630</td>\n",
       "      <td>1.938019</td>\n",
       "      <td>2.363243</td>\n",
       "    </tr>\n",
       "    <tr>\n",
       "      <th>2</th>\n",
       "      <td>43</td>\n",
       "      <td>0.411589</td>\n",
       "      <td>0.365335</td>\n",
       "      <td>0.399006</td>\n",
       "      <td>0.554728</td>\n",
       "      <td>0.911140</td>\n",
       "      <td>0.774487</td>\n",
       "      <td>0.576258</td>\n",
       "      <td>0.404740</td>\n",
       "      <td>0.229235</td>\n",
       "      <td>...</td>\n",
       "      <td>0.341701</td>\n",
       "      <td>0.340029</td>\n",
       "      <td>0.342162</td>\n",
       "      <td>0.341734</td>\n",
       "      <td>0.340499</td>\n",
       "      <td>0.346990</td>\n",
       "      <td>0.366654</td>\n",
       "      <td>0.343959</td>\n",
       "      <td>0.348800</td>\n",
       "      <td>0.365320</td>\n",
       "    </tr>\n",
       "    <tr>\n",
       "      <th>3</th>\n",
       "      <td>52</td>\n",
       "      <td>-0.162251</td>\n",
       "      <td>-0.159025</td>\n",
       "      <td>-0.159327</td>\n",
       "      <td>-0.163111</td>\n",
       "      <td>-0.158814</td>\n",
       "      <td>-0.159398</td>\n",
       "      <td>-0.162262</td>\n",
       "      <td>-0.174764</td>\n",
       "      <td>-0.179583</td>\n",
       "      <td>...</td>\n",
       "      <td>-0.267047</td>\n",
       "      <td>-0.258175</td>\n",
       "      <td>-0.261318</td>\n",
       "      <td>-0.274144</td>\n",
       "      <td>-0.273755</td>\n",
       "      <td>-0.519687</td>\n",
       "      <td>-0.765086</td>\n",
       "      <td>-0.532849</td>\n",
       "      <td>-0.575938</td>\n",
       "      <td>-0.730437</td>\n",
       "    </tr>\n",
       "    <tr>\n",
       "      <th>4</th>\n",
       "      <td>57</td>\n",
       "      <td>-0.268330</td>\n",
       "      <td>-0.279812</td>\n",
       "      <td>-0.270770</td>\n",
       "      <td>-0.232069</td>\n",
       "      <td>-0.136626</td>\n",
       "      <td>-0.155710</td>\n",
       "      <td>-0.117283</td>\n",
       "      <td>-0.096148</td>\n",
       "      <td>-0.074360</td>\n",
       "      <td>...</td>\n",
       "      <td>-0.304742</td>\n",
       "      <td>-0.297821</td>\n",
       "      <td>-0.302716</td>\n",
       "      <td>-0.310384</td>\n",
       "      <td>-0.311176</td>\n",
       "      <td>-0.513279</td>\n",
       "      <td>-0.714933</td>\n",
       "      <td>-0.521431</td>\n",
       "      <td>-0.558040</td>\n",
       "      <td>-0.686983</td>\n",
       "    </tr>\n",
       "    <tr>\n",
       "      <th>...</th>\n",
       "      <td>...</td>\n",
       "      <td>...</td>\n",
       "      <td>...</td>\n",
       "      <td>...</td>\n",
       "      <td>...</td>\n",
       "      <td>...</td>\n",
       "      <td>...</td>\n",
       "      <td>...</td>\n",
       "      <td>...</td>\n",
       "      <td>...</td>\n",
       "      <td>...</td>\n",
       "      <td>...</td>\n",
       "      <td>...</td>\n",
       "      <td>...</td>\n",
       "      <td>...</td>\n",
       "      <td>...</td>\n",
       "      <td>...</td>\n",
       "      <td>...</td>\n",
       "      <td>...</td>\n",
       "      <td>...</td>\n",
       "      <td>...</td>\n",
       "    </tr>\n",
       "    <tr>\n",
       "      <th>2096</th>\n",
       "      <td>21784</td>\n",
       "      <td>-0.094946</td>\n",
       "      <td>-0.097736</td>\n",
       "      <td>-0.095932</td>\n",
       "      <td>-0.087848</td>\n",
       "      <td>-0.070772</td>\n",
       "      <td>-0.076037</td>\n",
       "      <td>-0.082161</td>\n",
       "      <td>-0.089443</td>\n",
       "      <td>-0.092388</td>\n",
       "      <td>...</td>\n",
       "      <td>0.005842</td>\n",
       "      <td>0.004748</td>\n",
       "      <td>0.005003</td>\n",
       "      <td>0.006885</td>\n",
       "      <td>0.006829</td>\n",
       "      <td>0.041791</td>\n",
       "      <td>0.079657</td>\n",
       "      <td>0.044349</td>\n",
       "      <td>0.050701</td>\n",
       "      <td>0.074361</td>\n",
       "    </tr>\n",
       "    <tr>\n",
       "      <th>2097</th>\n",
       "      <td>21795</td>\n",
       "      <td>-0.194416</td>\n",
       "      <td>-0.182553</td>\n",
       "      <td>-0.191956</td>\n",
       "      <td>-0.238293</td>\n",
       "      <td>-0.352612</td>\n",
       "      <td>-0.314071</td>\n",
       "      <td>-0.319038</td>\n",
       "      <td>-0.313175</td>\n",
       "      <td>-0.285890</td>\n",
       "      <td>...</td>\n",
       "      <td>0.120157</td>\n",
       "      <td>0.117738</td>\n",
       "      <td>0.121368</td>\n",
       "      <td>0.121892</td>\n",
       "      <td>0.122540</td>\n",
       "      <td>0.189928</td>\n",
       "      <td>0.260724</td>\n",
       "      <td>0.190226</td>\n",
       "      <td>0.204078</td>\n",
       "      <td>0.251573</td>\n",
       "    </tr>\n",
       "    <tr>\n",
       "      <th>2098</th>\n",
       "      <td>21825</td>\n",
       "      <td>-0.004072</td>\n",
       "      <td>-0.000198</td>\n",
       "      <td>-0.003268</td>\n",
       "      <td>-0.017719</td>\n",
       "      <td>-0.054790</td>\n",
       "      <td>-0.048271</td>\n",
       "      <td>-0.088630</td>\n",
       "      <td>-0.084493</td>\n",
       "      <td>-0.070101</td>\n",
       "      <td>...</td>\n",
       "      <td>-0.128999</td>\n",
       "      <td>-0.124998</td>\n",
       "      <td>-0.127924</td>\n",
       "      <td>-0.131497</td>\n",
       "      <td>-0.131004</td>\n",
       "      <td>-0.222249</td>\n",
       "      <td>-0.318699</td>\n",
       "      <td>-0.224482</td>\n",
       "      <td>-0.242503</td>\n",
       "      <td>-0.305902</td>\n",
       "    </tr>\n",
       "    <tr>\n",
       "      <th>2099</th>\n",
       "      <td>21831</td>\n",
       "      <td>-0.128454</td>\n",
       "      <td>-0.127641</td>\n",
       "      <td>-0.128944</td>\n",
       "      <td>-0.136319</td>\n",
       "      <td>-0.158699</td>\n",
       "      <td>-0.147968</td>\n",
       "      <td>-0.147763</td>\n",
       "      <td>-0.142817</td>\n",
       "      <td>-0.138197</td>\n",
       "      <td>...</td>\n",
       "      <td>-0.159457</td>\n",
       "      <td>-0.155589</td>\n",
       "      <td>-0.158779</td>\n",
       "      <td>-0.161389</td>\n",
       "      <td>-0.160510</td>\n",
       "      <td>-0.233738</td>\n",
       "      <td>-0.313892</td>\n",
       "      <td>-0.233884</td>\n",
       "      <td>-0.249503</td>\n",
       "      <td>-0.303710</td>\n",
       "    </tr>\n",
       "    <tr>\n",
       "      <th>2100</th>\n",
       "      <td>21834</td>\n",
       "      <td>0.017035</td>\n",
       "      <td>0.014975</td>\n",
       "      <td>0.016362</td>\n",
       "      <td>0.022455</td>\n",
       "      <td>0.036599</td>\n",
       "      <td>0.037362</td>\n",
       "      <td>0.060050</td>\n",
       "      <td>0.073546</td>\n",
       "      <td>0.089899</td>\n",
       "      <td>...</td>\n",
       "      <td>-0.139425</td>\n",
       "      <td>-0.138126</td>\n",
       "      <td>-0.138262</td>\n",
       "      <td>-0.140428</td>\n",
       "      <td>-0.140205</td>\n",
       "      <td>-0.174284</td>\n",
       "      <td>-0.208883</td>\n",
       "      <td>-0.176402</td>\n",
       "      <td>-0.182364</td>\n",
       "      <td>-0.203985</td>\n",
       "    </tr>\n",
       "  </tbody>\n",
       "</table>\n",
       "<p>2101 rows × 1884 columns</p>\n",
       "</div>"
      ],
      "text/plain": [
       "      ecg_id         1         2         3         4         5         6  \\\n",
       "0          9 -0.170442 -0.066933 -0.140079 -0.478502 -1.245167 -0.979738   \n",
       "1         34  0.399648  0.579593  0.460080 -0.077166 -1.270282 -1.040847   \n",
       "2         43  0.411589  0.365335  0.399006  0.554728  0.911140  0.774487   \n",
       "3         52 -0.162251 -0.159025 -0.159327 -0.163111 -0.158814 -0.159398   \n",
       "4         57 -0.268330 -0.279812 -0.270770 -0.232069 -0.136626 -0.155710   \n",
       "...      ...       ...       ...       ...       ...       ...       ...   \n",
       "2096   21784 -0.094946 -0.097736 -0.095932 -0.087848 -0.070772 -0.076037   \n",
       "2097   21795 -0.194416 -0.182553 -0.191956 -0.238293 -0.352612 -0.314071   \n",
       "2098   21825 -0.004072 -0.000198 -0.003268 -0.017719 -0.054790 -0.048271   \n",
       "2099   21831 -0.128454 -0.127641 -0.128944 -0.136319 -0.158699 -0.147968   \n",
       "2100   21834  0.017035  0.014975  0.016362  0.022455  0.036599  0.037362   \n",
       "\n",
       "             7         8         9  ...      1874      1875      1876  \\\n",
       "0    -0.738943 -0.476043 -0.349288  ...  0.558936  0.551860  0.551007   \n",
       "1    -1.689153 -2.481032 -2.205554  ...  1.113606  1.088111  1.099680   \n",
       "2     0.576258  0.404740  0.229235  ...  0.341701  0.340029  0.342162   \n",
       "3    -0.162262 -0.174764 -0.179583  ... -0.267047 -0.258175 -0.261318   \n",
       "4    -0.117283 -0.096148 -0.074360  ... -0.304742 -0.297821 -0.302716   \n",
       "...        ...       ...       ...  ...       ...       ...       ...   \n",
       "2096 -0.082161 -0.089443 -0.092388  ...  0.005842  0.004748  0.005003   \n",
       "2097 -0.319038 -0.313175 -0.285890  ...  0.120157  0.117738  0.121368   \n",
       "2098 -0.088630 -0.084493 -0.070101  ... -0.128999 -0.124998 -0.127924   \n",
       "2099 -0.147763 -0.142817 -0.138197  ... -0.159457 -0.155589 -0.158779   \n",
       "2100  0.060050  0.073546  0.089899  ... -0.139425 -0.138126 -0.138262   \n",
       "\n",
       "          1877      1878      1879      1880      1881      1882      1883  \n",
       "0     0.561618  0.556675  0.645774  0.744957  0.649421  0.667106  0.731759  \n",
       "1     1.132341  1.130250  1.788834  2.455783  1.818630  1.938019  2.363243  \n",
       "2     0.341734  0.340499  0.346990  0.366654  0.343959  0.348800  0.365320  \n",
       "3    -0.274144 -0.273755 -0.519687 -0.765086 -0.532849 -0.575938 -0.730437  \n",
       "4    -0.310384 -0.311176 -0.513279 -0.714933 -0.521431 -0.558040 -0.686983  \n",
       "...        ...       ...       ...       ...       ...       ...       ...  \n",
       "2096  0.006885  0.006829  0.041791  0.079657  0.044349  0.050701  0.074361  \n",
       "2097  0.121892  0.122540  0.189928  0.260724  0.190226  0.204078  0.251573  \n",
       "2098 -0.131497 -0.131004 -0.222249 -0.318699 -0.224482 -0.242503 -0.305902  \n",
       "2099 -0.161389 -0.160510 -0.233738 -0.313892 -0.233884 -0.249503 -0.303710  \n",
       "2100 -0.140428 -0.140205 -0.174284 -0.208883 -0.176402 -0.182364 -0.203985  \n",
       "\n",
       "[2101 rows x 1884 columns]"
      ]
     },
     "execution_count": 14,
     "metadata": {},
     "output_type": "execute_result"
    }
   ],
   "source": [
    "ECG_data"
   ]
  },
  {
   "cell_type": "markdown",
   "id": "c640facd",
   "metadata": {},
   "source": [
    "## N-граммы"
   ]
  },
  {
   "cell_type": "code",
   "execution_count": 30,
   "id": "e8350337",
   "metadata": {},
   "outputs": [],
   "source": [
    "import neurokit2\n",
    "import sleepecg\n",
    "import wfdb.processing\n",
    "from nltk.util import ngrams\n",
    "\n",
    "from sklearn.metrics import f1_score\n",
    "from sklearn.linear_model import LogisticRegression\n",
    "from sklearn.model_selection import train_test_split"
   ]
  },
  {
   "cell_type": "code",
   "execution_count": 31,
   "id": "ff787f70",
   "metadata": {},
   "outputs": [],
   "source": [
    "def find_peaks(ecgsignal, peak):\n",
    "    return wfdb.processing.correct_peaks(ecgsignal, rpeaks,\n",
    "            search_radius=36, smooth_window_size=50, peak_dir=peak)"
   ]
  },
  {
   "cell_type": "code",
   "execution_count": 32,
   "id": "6c30419c",
   "metadata": {},
   "outputs": [],
   "source": [
    "def get_cycle(ecgsignal, rpeaks): # разбиение ЭКГ на циклы\n",
    "  ecgsignal_split = []\n",
    "  cycle = []\n",
    "  rpeaks = rpeaks[::-1]\n",
    "  f = True #флаг конца массива с пиками\n",
    "  f1 = True #флаг вхождения первого пика\n",
    "  for i in range(len(ecgsignal)):\n",
    "    if f and i == rpeaks[-1]:\n",
    "      if f1:\n",
    "        f1 = False\n",
    "        cycle = []\n",
    "      else:\n",
    "        ecgsignal_split.append(cycle)\n",
    "        cycle = []\n",
    "      rpeaks = rpeaks[:-1]\n",
    "      if f and len(rpeaks) == 0:\n",
    "        f = False\n",
    "    cycle.append(ecgsignal[i])\n",
    "  return ecgsignal_split"
   ]
  },
  {
   "cell_type": "code",
   "execution_count": 33,
   "id": "7e8e2f96",
   "metadata": {},
   "outputs": [],
   "source": [
    "def sign(x):\n",
    "   return 1 if x > 0 else -1"
   ]
  },
  {
   "cell_type": "code",
   "execution_count": 34,
   "id": "735c6051",
   "metadata": {},
   "outputs": [],
   "source": [
    "def RTL(ecgsignal_split):\n",
    "    sp = [[(i[0] - min(i[:10])), len(i), ((i[0] - min(i[:10]))/len(i))] for i in ecgsignal_split]\n",
    "    s = []\n",
    "    for i in range(len(sp) - 1):\n",
    "        R = sp[i + 1][0] - sp[i][0]\n",
    "        T = sp[i + 1][1] - sp[i][1]\n",
    "        L = sp[i + 1][2] - sp[i][2]\n",
    "        s.append([R, T, L])\n",
    "    return s"
   ]
  },
  {
   "cell_type": "code",
   "execution_count": 35,
   "id": "c6e0810c",
   "metadata": {},
   "outputs": [],
   "source": [
    "def letters(data): # кодирование цикла по В.М. Успенскому \n",
    "  if data[0] == 1:\n",
    "    if data[1] == -1:\n",
    "      return 'C'\n",
    "    else:\n",
    "      if data[2] == -1:\n",
    "        return 'E'\n",
    "      return 'A'\n",
    "  else:\n",
    "    if data[1] == 1:\n",
    "      return 'D'\n",
    "    else:\n",
    "      if data[2] == 1:\n",
    "        return 'B'\n",
    "      return 'F'"
   ]
  },
  {
   "cell_type": "code",
   "execution_count": 36,
   "id": "5dd8a970",
   "metadata": {},
   "outputs": [],
   "source": [
    "def encoding(ecgsignal_split):\n",
    "    s = [[sign(i) for i in k] for k in RTL(ecgsignal_split)]\n",
    "    stroka = ''\n",
    "    for i in s:\n",
    "        stroka += letters(i)\n",
    "    return stroka"
   ]
  },
  {
   "cell_type": "code",
   "execution_count": 37,
   "id": "7433fb95",
   "metadata": {},
   "outputs": [],
   "source": [
    "ECG_data_array = np.array(ECG_data)"
   ]
  },
  {
   "cell_type": "code",
   "execution_count": 38,
   "id": "b2172e20",
   "metadata": {},
   "outputs": [],
   "source": [
    "ecg_ids = []\n",
    "encoding_ecgs = []"
   ]
  },
  {
   "cell_type": "code",
   "execution_count": 39,
   "id": "49059988",
   "metadata": {},
   "outputs": [],
   "source": [
    "for ecgsignal in ECG_data_array:\n",
    "    ecg_id = ecgsignal[0]\n",
    "    ecgsignal = ecgsignal[1:]\n",
    "    \n",
    "    _, results = neurokit2.ecg_peaks(ecgsignal, sampling_rate=100)\n",
    "    rpeaks = results[\"ECG_R_Peaks\"]\n",
    "    rpeaks = sleepecg.detect_heartbeats(ecgsignal, fs=100)\n",
    "    rpeaks = wfdb.processing.xqrs_detect(ecgsignal, fs=100, verbose=False)\n",
    "    \n",
    "    rpeaks = find_peaks(ecgsignal, 'up')\n",
    "    \n",
    "    ecgsignal_split = get_cycle(ecgsignal, rpeaks)\n",
    "    encoding_ecg = encoding(ecgsignal_split)\n",
    "    \n",
    "    ecg_ids.append(ecg_id)\n",
    "    encoding_ecgs.append(encoding_ecg)"
   ]
  },
  {
   "cell_type": "code",
   "execution_count": 40,
   "id": "2ce80f96",
   "metadata": {},
   "outputs": [],
   "source": [
    "encoding_ecg = pd.Series(encoding_ecgs, index=ecg_ids)"
   ]
  },
  {
   "cell_type": "code",
   "execution_count": 41,
   "id": "b3cad4bc",
   "metadata": {},
   "outputs": [
    {
     "data": {
      "text/plain": [
       "9.0                   DDCADDCC\n",
       "34.0       DDDCCCFFFDDFCCCACFE\n",
       "43.0               BFABCFADDEC\n",
       "52.0               DDEFBCCBCCF\n",
       "57.0                 DDCADBCDD\n",
       "                  ...         \n",
       "21784.0         DDCCFFAFAFFAFC\n",
       "21795.0                       \n",
       "21825.0              ECCDDDECB\n",
       "21831.0           DAFCCDDDCFCD\n",
       "21834.0              CDFCCDAFF\n",
       "Length: 2101, dtype: object"
      ]
     },
     "execution_count": 41,
     "metadata": {},
     "output_type": "execute_result"
    }
   ],
   "source": [
    "encoding_ecg"
   ]
  },
  {
   "cell_type": "code",
   "execution_count": 42,
   "id": "094d154f",
   "metadata": {},
   "outputs": [
    {
     "data": {
      "text/html": [
       "<div>\n",
       "<style scoped>\n",
       "    .dataframe tbody tr th:only-of-type {\n",
       "        vertical-align: middle;\n",
       "    }\n",
       "\n",
       "    .dataframe tbody tr th {\n",
       "        vertical-align: top;\n",
       "    }\n",
       "\n",
       "    .dataframe thead th {\n",
       "        text-align: right;\n",
       "    }\n",
       "</style>\n",
       "<table border=\"1\" class=\"dataframe\">\n",
       "  <thead>\n",
       "    <tr style=\"text-align: right;\">\n",
       "      <th></th>\n",
       "      <th>record_name</th>\n",
       "      <th>myocard</th>\n",
       "      <th>encoding_ecg</th>\n",
       "    </tr>\n",
       "  </thead>\n",
       "  <tbody>\n",
       "    <tr>\n",
       "      <th>265</th>\n",
       "      <td>9.0</td>\n",
       "      <td>0</td>\n",
       "      <td>DDCADDCC</td>\n",
       "    </tr>\n",
       "    <tr>\n",
       "      <th>1407</th>\n",
       "      <td>34.0</td>\n",
       "      <td>0</td>\n",
       "      <td>DDDCCCFFFDDFCCCACFE</td>\n",
       "    </tr>\n",
       "    <tr>\n",
       "      <th>1833</th>\n",
       "      <td>43.0</td>\n",
       "      <td>0</td>\n",
       "      <td>BFABCFADDEC</td>\n",
       "    </tr>\n",
       "    <tr>\n",
       "      <th>441</th>\n",
       "      <td>52.0</td>\n",
       "      <td>0</td>\n",
       "      <td>DDEFBCCBCCF</td>\n",
       "    </tr>\n",
       "    <tr>\n",
       "      <th>1834</th>\n",
       "      <td>57.0</td>\n",
       "      <td>0</td>\n",
       "      <td>DDCADBCDD</td>\n",
       "    </tr>\n",
       "    <tr>\n",
       "      <th>...</th>\n",
       "      <td>...</td>\n",
       "      <td>...</td>\n",
       "      <td>...</td>\n",
       "    </tr>\n",
       "    <tr>\n",
       "      <th>1753</th>\n",
       "      <td>21784.0</td>\n",
       "      <td>0</td>\n",
       "      <td>DDCCFFAFAFFAFC</td>\n",
       "    </tr>\n",
       "    <tr>\n",
       "      <th>2008</th>\n",
       "      <td>21795.0</td>\n",
       "      <td>0</td>\n",
       "      <td></td>\n",
       "    </tr>\n",
       "    <tr>\n",
       "      <th>72</th>\n",
       "      <td>21825.0</td>\n",
       "      <td>0</td>\n",
       "      <td>ECCDDDECB</td>\n",
       "    </tr>\n",
       "    <tr>\n",
       "      <th>2100</th>\n",
       "      <td>21831.0</td>\n",
       "      <td>0</td>\n",
       "      <td>DAFCCDDDCFCD</td>\n",
       "    </tr>\n",
       "    <tr>\n",
       "      <th>440</th>\n",
       "      <td>21834.0</td>\n",
       "      <td>1</td>\n",
       "      <td>CDFCCDAFF</td>\n",
       "    </tr>\n",
       "  </tbody>\n",
       "</table>\n",
       "<p>2101 rows × 3 columns</p>\n",
       "</div>"
      ],
      "text/plain": [
       "      record_name  myocard         encoding_ecg\n",
       "265           9.0        0             DDCADDCC\n",
       "1407         34.0        0  DDDCCCFFFDDFCCCACFE\n",
       "1833         43.0        0          BFABCFADDEC\n",
       "441          52.0        0          DDEFBCCBCCF\n",
       "1834         57.0        0            DDCADBCDD\n",
       "...           ...      ...                  ...\n",
       "1753      21784.0        0       DDCCFFAFAFFAFC\n",
       "2008      21795.0        0                     \n",
       "72        21825.0        0            ECCDDDECB\n",
       "2100      21831.0        0         DAFCCDDDCFCD\n",
       "440       21834.0        1            CDFCCDAFF\n",
       "\n",
       "[2101 rows x 3 columns]"
      ]
     },
     "execution_count": 42,
     "metadata": {},
     "output_type": "execute_result"
    }
   ],
   "source": [
    "gts = pd.read_csv('train/train_gts.csv')\n",
    "gts.record_name = gts.record_name.map(lambda x: float(x[:-3]))\n",
    "gts = gts.sort_values(by='record_name')\n",
    "gts.insert(2, 'encoding_ecg', array(encoding_ecg))\n",
    "gts"
   ]
  },
  {
   "cell_type": "code",
   "execution_count": 43,
   "id": "3b9000b8",
   "metadata": {},
   "outputs": [],
   "source": [
    "sick = gts[gts.myocard == 1].encoding_ecg\n",
    "healthy = gts[gts.myocard == 0].encoding_ecg"
   ]
  },
  {
   "cell_type": "code",
   "execution_count": 164,
   "id": "5d68c202",
   "metadata": {},
   "outputs": [],
   "source": [
    "sp_sick= []\n",
    "for i in sick:\n",
    "    n = list(map(lambda x: ''.join(list(x)), list(ngrams(list(i), 6))))\n",
    "    for k in n:\n",
    "        sp_sick.append(k)"
   ]
  },
  {
   "cell_type": "code",
   "execution_count": 165,
   "id": "e50ed69a",
   "metadata": {},
   "outputs": [],
   "source": [
    "sp_healthy= []\n",
    "for i in healthy:\n",
    "    n = list(map(lambda x: ''.join(list(x)), list(ngrams(list(i), 6))))\n",
    "    for k in n:\n",
    "        sp_healthy.append(k) "
   ]
  },
  {
   "cell_type": "code",
   "execution_count": 166,
   "id": "7d3a0c46",
   "metadata": {},
   "outputs": [],
   "source": [
    "def counter_and_sort(arr):\n",
    "  quantity = {}\n",
    "  for i in arr:\n",
    "    if i in quantity:\n",
    "      quantity[i] += 1\n",
    "    else:\n",
    "      quantity[i] = 1\n",
    "  quantity = pd.Series(list(quantity.values()), index=list(quantity.keys())).sort_values(ascending=False)\n",
    "  return quantity"
   ]
  },
  {
   "cell_type": "code",
   "execution_count": 167,
   "id": "85f0c215",
   "metadata": {},
   "outputs": [],
   "source": [
    "q_sick = counter_and_sort(sp_sick)\n",
    "q_health = counter_and_sort(sp_healthy)"
   ]
  },
  {
   "cell_type": "code",
   "execution_count": 168,
   "id": "34bc7bdd",
   "metadata": {},
   "outputs": [],
   "source": [
    "only_sick = list(set(q_sick.index) - set(q_health.index))\n",
    "only_health = list(set(q_health.index) - set(q_sick.index))"
   ]
  },
  {
   "cell_type": "code",
   "execution_count": 169,
   "id": "a785c293",
   "metadata": {},
   "outputs": [],
   "source": [
    "popular_sick = q_sick.iloc[:len(q_sick)//2 + 3]\n",
    "popular_health = q_health.iloc[:len(q_health)//2 + 3]"
   ]
  },
  {
   "cell_type": "code",
   "execution_count": 170,
   "id": "2aaaf865",
   "metadata": {},
   "outputs": [],
   "source": [
    "popular_sick_only = list(set(popular_sick.index) - set(popular_health.index))\n",
    "popular_health_only = list(set(popular_health.index) - set(popular_sick.index))"
   ]
  },
  {
   "cell_type": "code",
   "execution_count": 171,
   "id": "aca2bf7f",
   "metadata": {},
   "outputs": [
    {
     "data": {
      "text/plain": [
       "array([[9.0, 0, 'DDCADDCC'],\n",
       "       [34.0, 0, 'DDDCCCFFFDDFCCCACFE'],\n",
       "       [43.0, 0, 'BFABCFADDEC'],\n",
       "       ...,\n",
       "       [21825.0, 0, 'ECCDDDECB'],\n",
       "       [21831.0, 0, 'DAFCCDDDCFCD'],\n",
       "       [21834.0, 1, 'CDFCCDAFF']], dtype=object)"
      ]
     },
     "execution_count": 171,
     "metadata": {},
     "output_type": "execute_result"
    }
   ],
   "source": [
    "array(gts)"
   ]
  },
  {
   "cell_type": "code",
   "execution_count": 172,
   "id": "9457453f",
   "metadata": {},
   "outputs": [],
   "source": [
    "ngramms_ecgs = []\n",
    "for ecg in array(gts):\n",
    "    ngramms_ecg = set()\n",
    "    n = list(map(lambda x: ''.join(list(x)), list(ngrams(list(ecg[2]), 6))))\n",
    "    for k in n:\n",
    "        ngramms_ecg.add(k)\n",
    "    ngramms_ecgs.append(list(ngramms_ecg))"
   ]
  },
  {
   "cell_type": "code",
   "execution_count": 173,
   "id": "1dbd4fc6",
   "metadata": {},
   "outputs": [],
   "source": [
    "def func(ng):\n",
    "    ng_health = sum(list(map(lambda x: 1 if x in only_health else 0, ng)))\n",
    "    ng_sick = sum(list(map(lambda x: 1 if x in only_sick else 0, ng)))\n",
    "    \n",
    "    ng_popular_health = sum(list(map(lambda x: 1 if x in popular_health_only else 0, ng)))\n",
    "    ng_popular_sick = sum(list(map(lambda x: 1 if x in popular_sick_only else 0, ng)))\n",
    "    \n",
    "    return [ng_health, ng_sick, ng_popular_health, ng_popular_sick]"
   ]
  },
  {
   "cell_type": "code",
   "execution_count": 174,
   "id": "64623dda",
   "metadata": {},
   "outputs": [],
   "source": [
    "arr = pd.DataFrame([func(ng) for ng in ngramms_ecgs])"
   ]
  },
  {
   "cell_type": "code",
   "execution_count": 175,
   "id": "9534f597",
   "metadata": {},
   "outputs": [],
   "source": [
    "X_train, X_test, y_train, y_test = train_test_split(arr, gts.myocard, random_state=0)"
   ]
  },
  {
   "cell_type": "code",
   "execution_count": 176,
   "id": "4ff51f4b",
   "metadata": {},
   "outputs": [
    {
     "data": {
      "text/html": [
       "<style>#sk-container-id-10 {color: black;}#sk-container-id-10 pre{padding: 0;}#sk-container-id-10 div.sk-toggleable {background-color: white;}#sk-container-id-10 label.sk-toggleable__label {cursor: pointer;display: block;width: 100%;margin-bottom: 0;padding: 0.3em;box-sizing: border-box;text-align: center;}#sk-container-id-10 label.sk-toggleable__label-arrow:before {content: \"▸\";float: left;margin-right: 0.25em;color: #696969;}#sk-container-id-10 label.sk-toggleable__label-arrow:hover:before {color: black;}#sk-container-id-10 div.sk-estimator:hover label.sk-toggleable__label-arrow:before {color: black;}#sk-container-id-10 div.sk-toggleable__content {max-height: 0;max-width: 0;overflow: hidden;text-align: left;background-color: #f0f8ff;}#sk-container-id-10 div.sk-toggleable__content pre {margin: 0.2em;color: black;border-radius: 0.25em;background-color: #f0f8ff;}#sk-container-id-10 input.sk-toggleable__control:checked~div.sk-toggleable__content {max-height: 200px;max-width: 100%;overflow: auto;}#sk-container-id-10 input.sk-toggleable__control:checked~label.sk-toggleable__label-arrow:before {content: \"▾\";}#sk-container-id-10 div.sk-estimator input.sk-toggleable__control:checked~label.sk-toggleable__label {background-color: #d4ebff;}#sk-container-id-10 div.sk-label input.sk-toggleable__control:checked~label.sk-toggleable__label {background-color: #d4ebff;}#sk-container-id-10 input.sk-hidden--visually {border: 0;clip: rect(1px 1px 1px 1px);clip: rect(1px, 1px, 1px, 1px);height: 1px;margin: -1px;overflow: hidden;padding: 0;position: absolute;width: 1px;}#sk-container-id-10 div.sk-estimator {font-family: monospace;background-color: #f0f8ff;border: 1px dotted black;border-radius: 0.25em;box-sizing: border-box;margin-bottom: 0.5em;}#sk-container-id-10 div.sk-estimator:hover {background-color: #d4ebff;}#sk-container-id-10 div.sk-parallel-item::after {content: \"\";width: 100%;border-bottom: 1px solid gray;flex-grow: 1;}#sk-container-id-10 div.sk-label:hover label.sk-toggleable__label {background-color: #d4ebff;}#sk-container-id-10 div.sk-serial::before {content: \"\";position: absolute;border-left: 1px solid gray;box-sizing: border-box;top: 0;bottom: 0;left: 50%;z-index: 0;}#sk-container-id-10 div.sk-serial {display: flex;flex-direction: column;align-items: center;background-color: white;padding-right: 0.2em;padding-left: 0.2em;position: relative;}#sk-container-id-10 div.sk-item {position: relative;z-index: 1;}#sk-container-id-10 div.sk-parallel {display: flex;align-items: stretch;justify-content: center;background-color: white;position: relative;}#sk-container-id-10 div.sk-item::before, #sk-container-id-10 div.sk-parallel-item::before {content: \"\";position: absolute;border-left: 1px solid gray;box-sizing: border-box;top: 0;bottom: 0;left: 50%;z-index: -1;}#sk-container-id-10 div.sk-parallel-item {display: flex;flex-direction: column;z-index: 1;position: relative;background-color: white;}#sk-container-id-10 div.sk-parallel-item:first-child::after {align-self: flex-end;width: 50%;}#sk-container-id-10 div.sk-parallel-item:last-child::after {align-self: flex-start;width: 50%;}#sk-container-id-10 div.sk-parallel-item:only-child::after {width: 0;}#sk-container-id-10 div.sk-dashed-wrapped {border: 1px dashed gray;margin: 0 0.4em 0.5em 0.4em;box-sizing: border-box;padding-bottom: 0.4em;background-color: white;}#sk-container-id-10 div.sk-label label {font-family: monospace;font-weight: bold;display: inline-block;line-height: 1.2em;}#sk-container-id-10 div.sk-label-container {text-align: center;}#sk-container-id-10 div.sk-container {/* jupyter's `normalize.less` sets `[hidden] { display: none; }` but bootstrap.min.css set `[hidden] { display: none !important; }` so we also need the `!important` here to be able to override the default hidden behavior on the sphinx rendered scikit-learn.org. See: https://github.com/scikit-learn/scikit-learn/issues/21755 */display: inline-block !important;position: relative;}#sk-container-id-10 div.sk-text-repr-fallback {display: none;}</style><div id=\"sk-container-id-10\" class=\"sk-top-container\"><div class=\"sk-text-repr-fallback\"><pre>LogisticRegression()</pre><b>In a Jupyter environment, please rerun this cell to show the HTML representation or trust the notebook. <br />On GitHub, the HTML representation is unable to render, please try loading this page with nbviewer.org.</b></div><div class=\"sk-container\" hidden><div class=\"sk-item\"><div class=\"sk-estimator sk-toggleable\"><input class=\"sk-toggleable__control sk-hidden--visually\" id=\"sk-estimator-id-10\" type=\"checkbox\" checked><label for=\"sk-estimator-id-10\" class=\"sk-toggleable__label sk-toggleable__label-arrow\">LogisticRegression</label><div class=\"sk-toggleable__content\"><pre>LogisticRegression()</pre></div></div></div></div></div>"
      ],
      "text/plain": [
       "LogisticRegression()"
      ]
     },
     "execution_count": 176,
     "metadata": {},
     "output_type": "execute_result"
    }
   ],
   "source": [
    "model = LogisticRegression()\n",
    "model.fit(X_train, y_train)"
   ]
  },
  {
   "cell_type": "code",
   "execution_count": 177,
   "id": "6459d56e",
   "metadata": {},
   "outputs": [
    {
     "data": {
      "text/plain": [
       "0.7817460317460319"
      ]
     },
     "execution_count": 177,
     "metadata": {},
     "output_type": "execute_result"
    }
   ],
   "source": [
    "f1_score(y_train, model.predict(X_train))"
   ]
  }
 ],
 "metadata": {
  "colab": {
   "provenance": []
  },
  "kernelspec": {
   "display_name": "Python 3 (ipykernel)",
   "language": "python",
   "name": "python3"
  },
  "language_info": {
   "codemirror_mode": {
    "name": "ipython",
    "version": 3
   },
   "file_extension": ".py",
   "mimetype": "text/x-python",
   "name": "python",
   "nbconvert_exporter": "python",
   "pygments_lexer": "ipython3",
   "version": "3.11.4"
  }
 },
 "nbformat": 4,
 "nbformat_minor": 5
}
