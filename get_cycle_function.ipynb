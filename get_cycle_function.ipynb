{
  "cells": [
    {
      "cell_type": "code",
      "source": [
        "def get_cycle(arr, peaks):\n",
        "  signal_split = []\n",
        "  cycle = []\n",
        "  peaks = peaks[::-1]\n",
        "  f = True #флаг конца массива с пиками\n",
        "  f1 = True #флаг вхождения первого пика\n",
        "  for i in range(len(arr)):\n",
        "    if f and i == peaks[-1]:\n",
        "      if f1:\n",
        "        f1 = False\n",
        "        cycle = []\n",
        "      else:\n",
        "        signal_split.append(cycle)\n",
        "        cycle = []\n",
        "      peaks = peaks[:-1]\n",
        "      if f and len(peaks) == 0:\n",
        "        f = False\n",
        "    cycle.append(arr[i])\n",
        "  return signal_split"
      ],
      "metadata": {
        "id": "h5ReD0PssITT"
      },
      "id": "h5ReD0PssITT",
      "execution_count": 55,
      "outputs": []
    },
    {
      "cell_type": "code",
      "execution_count": 77,
      "id": "9a32d529",
      "metadata": {
        "colab": {
          "base_uri": "https://localhost:8080/"
        },
        "id": "9a32d529",
        "outputId": "c0ea8964-4df3-4d11-a1c7-0b8184e9c365"
      },
      "outputs": [
        {
          "output_type": "stream",
          "name": "stdout",
          "text": [
            "CPU times: user 11.5 ms, sys: 0 ns, total: 11.5 ms\n",
            "Wall time: 14 ms\n"
          ]
        }
      ],
      "source": [
        "%%time\n",
        "ecgsignal_split = []\n",
        "cycle = []\n",
        "\n",
        "for i in range(len(ecgsignal)):\n",
        "    if i in rpeaks_corrected:\n",
        "        if i == rpeaks_corrected[0]:\n",
        "            cycle = []\n",
        "        else:\n",
        "            ecgsignal_split.append(cycle)\n",
        "            cycle = []\n",
        "    cycle.append(ecgsignal[i])"
      ]
    },
    {
      "cell_type": "code",
      "source": [
        "%%time\n",
        "new_signal_split1 = get_cycle(ecgsignal, rpeaks_corrected)"
      ],
      "metadata": {
        "colab": {
          "base_uri": "https://localhost:8080/"
        },
        "id": "ae0p4ZJHvLy2",
        "outputId": "a30449db-fdc9-4577-ff11-085f65b60100"
      },
      "id": "ae0p4ZJHvLy2",
      "execution_count": 82,
      "outputs": [
        {
          "output_type": "stream",
          "name": "stdout",
          "text": [
            "CPU times: user 1.19 ms, sys: 10 µs, total: 1.2 ms\n",
            "Wall time: 1.22 ms\n"
          ]
        }
      ]
    },
    {
      "cell_type": "code",
      "source": [
        "new_signal_split1 == ecgsignal_split"
      ],
      "metadata": {
        "colab": {
          "base_uri": "https://localhost:8080/"
        },
        "id": "_N0siYcd4W3V",
        "outputId": "99fcc4b1-2024-4bb4-88d2-4d4d76c859ea"
      },
      "id": "_N0siYcd4W3V",
      "execution_count": 84,
      "outputs": [
        {
          "output_type": "execute_result",
          "data": {
            "text/plain": [
              "True"
            ]
          },
          "metadata": {},
          "execution_count": 84
        }
      ]
    },
    {
      "cell_type": "code",
      "source": [],
      "metadata": {
        "id": "90wWTsnL4pHV"
      },
      "id": "90wWTsnL4pHV",
      "execution_count": null,
      "outputs": []
    }
  ],
  "metadata": {
    "kernelspec": {
      "display_name": "Python 3 (ipykernel)",
      "language": "python",
      "name": "python3"
    },
    "language_info": {
      "codemirror_mode": {
        "name": "ipython",
        "version": 3
      },
      "file_extension": ".py",
      "mimetype": "text/x-python",
      "name": "python",
      "nbconvert_exporter": "python",
      "pygments_lexer": "ipython3",
      "version": "3.10.11"
    },
    "colab": {
      "provenance": []
    }
  },
  "nbformat": 4,
  "nbformat_minor": 5
}