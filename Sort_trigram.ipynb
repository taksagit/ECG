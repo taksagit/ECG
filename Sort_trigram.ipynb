{
  "cells": [
    {
      "cell_type": "code",
      "source": [
        "def counter_and_sort(arr):\n",
        "  quantity = {}\n",
        "  for i in arr:\n",
        "    if i in quantity:\n",
        "      quantity[i] += 1\n",
        "    else:\n",
        "      quantity[i] = 1\n",
        "  quantity = pd.Series(list(quantity.values()), index=list(quantity.keys())).sort_values(ascending=False)\n",
        "  return quantity"
      ],
      "metadata": {
        "id": "5d544D7FtjUY"
      },
      "id": "5d544D7FtjUY",
      "execution_count": 68,
      "outputs": []
    },
    {
      "cell_type": "code",
      "source": [
        "q_sick = counter_and_sort(sp_sick)\n",
        "q_health = counter_and_sort(sp_healthy)"
      ],
      "metadata": {
        "id": "JwrqiHa1tyIP"
      },
      "id": "JwrqiHa1tyIP",
      "execution_count": null,
      "outputs": []
    },
    {
      "cell_type": "code",
      "source": [
        "only_sick = list(set(q_sick.index) - set(q_health.index))"
      ],
      "metadata": {
        "id": "GQYSPDcatoTf"
      },
      "id": "GQYSPDcatoTf",
      "execution_count": 69,
      "outputs": []
    },
    {
      "cell_type": "code",
      "source": [
        "only_health = list(set(q_health.index) - set(q_sick.index))"
      ],
      "metadata": {
        "id": "tH3h7bB4lmWY"
      },
      "id": "tH3h7bB4lmWY",
      "execution_count": 70,
      "outputs": []
    },
    {
      "cell_type": "code",
      "source": [
        "only_sick"
      ],
      "metadata": {
        "colab": {
          "base_uri": "https://localhost:8080/"
        },
        "id": "bwX09w_UlnmN",
        "outputId": "a5536cbc-a9be-455b-d170-3ec75e7fe5d2"
      },
      "id": "bwX09w_UlnmN",
      "execution_count": 71,
      "outputs": [
        {
          "output_type": "execute_result",
          "data": {
            "text/plain": [
              "[]"
            ]
          },
          "metadata": {},
          "execution_count": 71
        }
      ]
    },
    {
      "cell_type": "code",
      "source": [
        "only_health"
      ],
      "metadata": {
        "colab": {
          "base_uri": "https://localhost:8080/"
        },
        "id": "gejkjcVbn-Rq",
        "outputId": "0197b1fd-af3b-41f5-be2c-1b9569e9cd33"
      },
      "id": "gejkjcVbn-Rq",
      "execution_count": 72,
      "outputs": [
        {
          "output_type": "execute_result",
          "data": {
            "text/plain": [
              "['AAE',\n",
              " 'FBE',\n",
              " 'DEA',\n",
              " 'BBF',\n",
              " 'EEA',\n",
              " 'EED',\n",
              " 'FFB',\n",
              " 'EEE',\n",
              " 'DFB',\n",
              " 'EAA',\n",
              " 'DAE',\n",
              " 'ECA',\n",
              " 'BFB',\n",
              " 'AEE']"
            ]
          },
          "metadata": {},
          "execution_count": 72
        }
      ]
    },
    {
      "cell_type": "code",
      "source": [
        "only_health = q_health[only_health].sort_values(ascending=False)"
      ],
      "metadata": {
        "id": "J-GcihX_n_sQ"
      },
      "id": "J-GcihX_n_sQ",
      "execution_count": 73,
      "outputs": []
    },
    {
      "cell_type": "code",
      "source": [
        "only_health"
      ],
      "metadata": {
        "colab": {
          "base_uri": "https://localhost:8080/"
        },
        "id": "kIWUUwX8sWn9",
        "outputId": "0228448e-be54-498b-f1b8-156090098374"
      },
      "id": "kIWUUwX8sWn9",
      "execution_count": 74,
      "outputs": [
        {
          "output_type": "execute_result",
          "data": {
            "text/plain": [
              "DFB    28\n",
              "EED    26\n",
              "FBE    20\n",
              "DAE    19\n",
              "FFB    18\n",
              "ECA    12\n",
              "BFB    12\n",
              "AEE     9\n",
              "DEA     7\n",
              "EEE     7\n",
              "BBF     4\n",
              "EEA     3\n",
              "AAE     2\n",
              "EAA     1\n",
              "dtype: int64"
            ]
          },
          "metadata": {},
          "execution_count": 74
        }
      ]
    },
    {
      "cell_type": "code",
      "source": [],
      "metadata": {
        "id": "fwYrny6QsgQ8"
      },
      "id": "fwYrny6QsgQ8",
      "execution_count": null,
      "outputs": []
    }
  ],
  "metadata": {
    "colab": {
      "provenance": []
    },
    "kernelspec": {
      "display_name": "Python 3 (ipykernel)",
      "language": "python",
      "name": "python3"
    },
    "language_info": {
      "codemirror_mode": {
        "name": "ipython",
        "version": 3
      },
      "file_extension": ".py",
      "mimetype": "text/x-python",
      "name": "python",
      "nbconvert_exporter": "python",
      "pygments_lexer": "ipython3",
      "version": "3.10.11"
    }
  },
  "nbformat": 4,
  "nbformat_minor": 5
}