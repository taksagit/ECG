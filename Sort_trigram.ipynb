{
  "cells": [
    {
      "cell_type": "code",
      "source": [
        "def counter_and_sort(arr):\n",
        "  quantity = {}\n",
        "  for i in arr:\n",
        "    if i in quantity:\n",
        "      quantity[i] += 1\n",
        "    else:\n",
        "      quantity[i] = 1\n",
        "  quantity = pd.Series(list(quantity.values()), index=list(quantity.keys())).sort_values(ascending=False)\n",
        "  return quantity"
      ],
      "metadata": {
        "id": "rDkqfAavjSW2"
      },
      "id": "rDkqfAavjSW2",
      "execution_count": null,
      "outputs": []
    },
    {
      "cell_type": "code",
      "source": [
        "q_sick = counter_and_sort(sp_sick)\n",
        "q_health = counter_and_sort(sp_healthy)"
      ],
      "metadata": {
        "id": "TCFengR4jbWN"
      },
      "id": "TCFengR4jbWN",
      "execution_count": null,
      "outputs": []
    }
  ],
  "metadata": {
    "colab": {
      "provenance": []
    },
    "kernelspec": {
      "display_name": "Python 3 (ipykernel)",
      "language": "python",
      "name": "python3"
    },
    "language_info": {
      "codemirror_mode": {
        "name": "ipython",
        "version": 3
      },
      "file_extension": ".py",
      "mimetype": "text/x-python",
      "name": "python",
      "nbconvert_exporter": "python",
      "pygments_lexer": "ipython3",
      "version": "3.10.11"
    }
  },
  "nbformat": 4,
  "nbformat_minor": 5
}